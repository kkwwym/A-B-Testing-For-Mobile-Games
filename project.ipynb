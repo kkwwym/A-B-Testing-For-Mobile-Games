{
 "cells": [
  {
   "cell_type": "markdown",
   "id": "35b90d2d",
   "metadata": {},
   "source": [
    "# A/B Testing For Mobile Games\n",
    "---"
   ]
  },
  {
   "cell_type": "markdown",
   "id": "0897446e",
   "metadata": {},
   "source": [
    "## Outline\n",
    "1. Define Business Use Case\n",
    "  * Game Introduction\n",
    "  * Problem Statement\n",
    "  * Define the Metrics\n",
    "  * Set the Hypothesis  \n",
    "2. Data Preparation & Cleaning \n",
    "3. Exploratory Data Analysis\n",
    "4. Chi-squared test for A/B testing \n",
    "5. Conclusion \n",
    "---"
   ]
  },
  {
   "cell_type": "markdown",
   "id": "c2f3d06d",
   "metadata": {},
   "source": [
    "## 1.  Define Business Use Case"
   ]
  },
  {
   "cell_type": "markdown",
   "id": "8a0abc2d",
   "metadata": {},
   "source": [
    "### Game Introduction\n",
    "Cookie Cats is a hugely popular mobile puzzle [game](https://www.youtube.com/watch?v=GaP5f0jVTWE) developed by [Tactile](https://tactilegames.com/cookie-cats/) Entertainment. It's a classic \"connect three\" style puzzle game where the player must connect tiles of the same color in order to clear the board and win the level.  \n",
    "It also features singing cats. "
   ]
  },
  {
   "cell_type": "markdown",
   "id": "2f07ed97",
   "metadata": {},
   "source": [
    "### Problem Statement\n",
    "As players progress through the game they will encounter gates that force them to wait some time before they can progress or make an in-app purchase.   \n",
    "This sort of \"time gate\" is usually seen in free-to-play models, and normally contains ads that can be skipped using credits. In this case the player requires to submit a specific number of \"Keys\", which also can be skipped in exchange of in-game purchases.\n",
    "The company is planning to move Cookie Cats \"time gates\" from level 30 to 40, but they don’t know by how much the user retention can be impacted by this decision."
   ]
  },
  {
   "cell_type": "markdown",
   "id": "1d6626df",
   "metadata": {},
   "source": [
    "### Define the Metrics \n",
    "In this project, I am going to analyze the result of an A/B test where the first gate in Cookie Cats was moved from level 30 to level 40. In particular, analyze the impact on player **retention**."
   ]
  },
  {
   "cell_type": "markdown",
   "id": "fb0e6f60",
   "metadata": {},
   "source": [
    "\n",
    "### Set the Hypothesis \n",
    "So seeing this viewpoint, a decision like this can impact not only user retention, the expected revenue as well that’s why we are going to set the initial hypothesis as:\n",
    "\n",
    "$H_0:$ *The retention rate is the same for the two versions.*    \n",
    "$H_1:$ *The retention rate is higher for the gate at level 30.*  "
   ]
  },
  {
   "cell_type": "code",
   "execution_count": 1,
   "id": "6e0e0ecb",
   "metadata": {},
   "outputs": [],
   "source": [
    "import numpy as np\n",
    "import pandas as pd\n",
    "from matplotlib import pyplot as plt\n",
    "%matplotlib inline\n",
    "import scipy.stats as stats"
   ]
  },
  {
   "cell_type": "markdown",
   "id": "31627483",
   "metadata": {},
   "source": [
    "## 2.  Data Preparation & Cleaning "
   ]
  },
  {
   "cell_type": "markdown",
   "id": "c28e9b1a",
   "metadata": {},
   "source": [
    "The data we have is from 90,189 players that installed the game while the AB-test was running. When a player installed the game, he or she was randomly assigned to either gate_30 or gate_40.  \n",
    "\n",
    "The variables are:  \n",
    "- userid - a unique number that identifies each player.  \n",
    "- version - whether the player was put in the control group\n",
    "  - gate_30 - a gate at level 30 \n",
    "  - gate_40 - a gate at level 40 (the group with the moved gate)\n",
    "- sum_gamerounds - the number of game rounds played by the player during the first 14 days after install\n",
    "- retention_1 - the player come back and play 1 day after installing (T/F)\n",
    "- retention_7 - the player come back and play 7 days after installing (T/F)\n",
    " \n",
    "Dataset from [Kaggle](https://www.kaggle.com/datasets/arpitdw/cokie-cats)"
   ]
  },
  {
   "cell_type": "code",
   "execution_count": 2,
   "id": "e1ba49d0",
   "metadata": {},
   "outputs": [
    {
     "data": {
      "text/html": [
       "<div>\n",
       "<style scoped>\n",
       "    .dataframe tbody tr th:only-of-type {\n",
       "        vertical-align: middle;\n",
       "    }\n",
       "\n",
       "    .dataframe tbody tr th {\n",
       "        vertical-align: top;\n",
       "    }\n",
       "\n",
       "    .dataframe thead th {\n",
       "        text-align: right;\n",
       "    }\n",
       "</style>\n",
       "<table border=\"1\" class=\"dataframe\">\n",
       "  <thead>\n",
       "    <tr style=\"text-align: right;\">\n",
       "      <th></th>\n",
       "      <th>userid</th>\n",
       "      <th>version</th>\n",
       "      <th>sum_gamerounds</th>\n",
       "      <th>retention_1</th>\n",
       "      <th>retention_7</th>\n",
       "    </tr>\n",
       "  </thead>\n",
       "  <tbody>\n",
       "    <tr>\n",
       "      <th>0</th>\n",
       "      <td>116</td>\n",
       "      <td>gate_30</td>\n",
       "      <td>3</td>\n",
       "      <td>False</td>\n",
       "      <td>False</td>\n",
       "    </tr>\n",
       "    <tr>\n",
       "      <th>1</th>\n",
       "      <td>337</td>\n",
       "      <td>gate_30</td>\n",
       "      <td>38</td>\n",
       "      <td>True</td>\n",
       "      <td>False</td>\n",
       "    </tr>\n",
       "    <tr>\n",
       "      <th>2</th>\n",
       "      <td>377</td>\n",
       "      <td>gate_40</td>\n",
       "      <td>165</td>\n",
       "      <td>True</td>\n",
       "      <td>False</td>\n",
       "    </tr>\n",
       "    <tr>\n",
       "      <th>3</th>\n",
       "      <td>483</td>\n",
       "      <td>gate_40</td>\n",
       "      <td>1</td>\n",
       "      <td>False</td>\n",
       "      <td>False</td>\n",
       "    </tr>\n",
       "    <tr>\n",
       "      <th>4</th>\n",
       "      <td>488</td>\n",
       "      <td>gate_40</td>\n",
       "      <td>179</td>\n",
       "      <td>True</td>\n",
       "      <td>True</td>\n",
       "    </tr>\n",
       "  </tbody>\n",
       "</table>\n",
       "</div>"
      ],
      "text/plain": [
       "   userid  version  sum_gamerounds  retention_1  retention_7\n",
       "0     116  gate_30               3        False        False\n",
       "1     337  gate_30              38         True        False\n",
       "2     377  gate_40             165         True        False\n",
       "3     483  gate_40               1        False        False\n",
       "4     488  gate_40             179         True         True"
      ]
     },
     "execution_count": 2,
     "metadata": {},
     "output_type": "execute_result"
    }
   ],
   "source": [
    "df=pd.read_csv(\"cookie_cats.csv\")\n",
    "df.head()"
   ]
  },
  {
   "cell_type": "code",
   "execution_count": 3,
   "id": "29bd7fa8",
   "metadata": {},
   "outputs": [
    {
     "data": {
      "text/plain": [
       "(90189, 5)"
      ]
     },
     "execution_count": 3,
     "metadata": {},
     "output_type": "execute_result"
    }
   ],
   "source": [
    "df.shape"
   ]
  },
  {
   "cell_type": "code",
   "execution_count": 4,
   "id": "d75ba857",
   "metadata": {},
   "outputs": [
    {
     "data": {
      "text/plain": [
       "userid            90189\n",
       "version           90189\n",
       "sum_gamerounds    90189\n",
       "retention_1       90189\n",
       "retention_7       90189\n",
       "dtype: int64"
      ]
     },
     "execution_count": 4,
     "metadata": {},
     "output_type": "execute_result"
    }
   ],
   "source": [
    "df.isnull().count()"
   ]
  },
  {
   "cell_type": "markdown",
   "id": "3c01dd9a",
   "metadata": {},
   "source": [
    "## 3. Exploratory Data Analysis"
   ]
  },
  {
   "cell_type": "code",
   "execution_count": 5,
   "id": "cf4f75cd",
   "metadata": {},
   "outputs": [
    {
     "data": {
      "text/plain": [
       "version\n",
       "gate_30    44700\n",
       "gate_40    45489\n",
       "Name: userid, dtype: int64"
      ]
     },
     "execution_count": 5,
     "metadata": {},
     "output_type": "execute_result"
    }
   ],
   "source": [
    "# check if there are roughly the same number of players in each A and B group.\n",
    "df.groupby(by=\"version\")[\"userid\"].count()"
   ]
  },
  {
   "cell_type": "code",
   "execution_count": 6,
   "id": "bba88354",
   "metadata": {},
   "outputs": [
    {
     "data": {
      "text/plain": [
       "1       5538\n",
       "2       4606\n",
       "0       3994\n",
       "3       3958\n",
       "4       3629\n",
       "        ... \n",
       "858        1\n",
       "1102       1\n",
       "618        1\n",
       "1027       1\n",
       "708        1\n",
       "Name: sum_gamerounds, Length: 942, dtype: int64"
      ]
     },
     "execution_count": 6,
     "metadata": {},
     "output_type": "execute_result"
    }
   ],
   "source": [
    "df[\"sum_gamerounds\"].value_counts()"
   ]
  },
  {
   "cell_type": "code",
   "execution_count": 7,
   "id": "28722c5f",
   "metadata": {},
   "outputs": [
    {
     "data": {
      "text/plain": [
       "Text(0, 0.5, 'User ID')"
      ]
     },
     "execution_count": 7,
     "metadata": {},
     "output_type": "execute_result"
    },
    {
     "data": {
      "image/png": "[encoded data removed]",
      "text/plain": [
       "<Figure size 640x480 with 1 Axes>"
      ]
     },
     "metadata": {},
     "output_type": "display_data"
    }
   ],
   "source": [
    "df_plot_data=df.groupby(\"sum_gamerounds\")[\"userid\"].count()\n",
    "df_plot=df_plot_data.plot(x=\"sum_gamerounds\",y=\"user_id\",kind=\"hist\")\n",
    "df_plot.set_xlabel(\"Sum Gamerounds\")\n",
    "df_plot.set_ylabel(\"User ID\")"
   ]
  },
  {
   "cell_type": "code",
   "execution_count": 8,
   "id": "ae72f19a",
   "metadata": {},
   "outputs": [
    {
     "data": {
      "text/plain": [
       "Text(0, 0.5, 'User ID')"
      ]
     },
     "execution_count": 8,
     "metadata": {},
     "output_type": "execute_result"
    },
    {
     "data": {
      "image/png": "[encoded data removed]",
      "text/plain": [
       "<Figure size 640x480 with 1 Axes>"
      ]
     },
     "metadata": {},
     "output_type": "display_data"
    }
   ],
   "source": [
    "df_plot_data=df.groupby(\"sum_gamerounds\")[\"userid\"].count()\n",
    "df_plot=df_plot_data.head(100).plot(x=\"sum_gamerounds\",y=\"user_id\",kind=\"hist\")\n",
    "df_plot.set_xlabel(\"Sum Gamerounds\")\n",
    "df_plot.set_ylabel(\"User ID\")"
   ]
  },
  {
   "cell_type": "markdown",
   "id": "f14b19ed",
   "metadata": {},
   "source": [
    "In the plot above we can see that some players install the game but then never play it (0 game rounds), some players just play a couple of game rounds in their first week, and some get really hooked!\n"
   ]
  },
  {
   "cell_type": "code",
   "execution_count": 9,
   "id": "7b0f25e9",
   "metadata": {},
   "outputs": [
    {
     "data": {
      "text/plain": [
       "0.4452095044850259"
      ]
     },
     "execution_count": 9,
     "metadata": {},
     "output_type": "execute_result"
    }
   ],
   "source": [
    "#1-day retention\n",
    "df[\"retention_1\"].mean()"
   ]
  },
  {
   "cell_type": "code",
   "execution_count": 10,
   "id": "f9ad8696",
   "metadata": {},
   "outputs": [
    {
     "data": {
      "text/plain": [
       "version\n",
       "gate_30    0.448188\n",
       "gate_40    0.442283\n",
       "Name: retention_1, dtype: float64"
      ]
     },
     "execution_count": 10,
     "metadata": {},
     "output_type": "execute_result"
    }
   ],
   "source": [
    "#1-day retention by A/B group \n",
    "df.groupby(\"version\")[\"retention_1\"].mean()"
   ]
  },
  {
   "cell_type": "code",
   "execution_count": 11,
   "id": "462cdee3",
   "metadata": {},
   "outputs": [
    {
     "data": {
      "text/plain": [
       "0.1860648194347426"
      ]
     },
     "execution_count": 11,
     "metadata": {},
     "output_type": "execute_result"
    }
   ],
   "source": [
    "#7-day retention\n",
    "df[\"retention_7\"].mean()"
   ]
  },
  {
   "cell_type": "code",
   "execution_count": 12,
   "id": "8e064427",
   "metadata": {},
   "outputs": [
    {
     "data": {
      "text/plain": [
       "version\n",
       "gate_30    0.190201\n",
       "gate_40    0.182000\n",
       "Name: retention_7, dtype: float64"
      ]
     },
     "execution_count": 12,
     "metadata": {},
     "output_type": "execute_result"
    }
   ],
   "source": [
    "#7-day retention by A/B group\n",
    "df.groupby(\"version\")[\"retention_7\"].mean()"
   ]
  },
  {
   "cell_type": "markdown",
   "id": "9019d5aa",
   "metadata": {},
   "source": [
    "## 4. Chi-squared test for A/B testing\n",
    "$H_0:$ *The retention rate is the same for the two versions.*    \n",
    "$H_1:$ *The retention rate is higher for the gate at level 30.*  \n"
   ]
  },
  {
   "cell_type": "code",
   "execution_count": 13,
   "id": "79e35785",
   "metadata": {},
   "outputs": [
    {
     "data": {
      "text/html": [
       "<div>\n",
       "<style scoped>\n",
       "    .dataframe tbody tr th:only-of-type {\n",
       "        vertical-align: middle;\n",
       "    }\n",
       "\n",
       "    .dataframe tbody tr th {\n",
       "        vertical-align: top;\n",
       "    }\n",
       "\n",
       "    .dataframe thead th {\n",
       "        text-align: right;\n",
       "    }\n",
       "</style>\n",
       "<table border=\"1\" class=\"dataframe\">\n",
       "  <thead>\n",
       "    <tr style=\"text-align: right;\">\n",
       "      <th></th>\n",
       "      <th>version</th>\n",
       "    </tr>\n",
       "  </thead>\n",
       "  <tbody>\n",
       "    <tr>\n",
       "      <th>0</th>\n",
       "      <td>gate_30</td>\n",
       "    </tr>\n",
       "    <tr>\n",
       "      <th>1</th>\n",
       "      <td>gate_40</td>\n",
       "    </tr>\n",
       "  </tbody>\n",
       "</table>\n",
       "</div>"
      ],
      "text/plain": [
       "   version\n",
       "0  gate_30\n",
       "1  gate_40"
      ]
     },
     "execution_count": 13,
     "metadata": {},
     "output_type": "execute_result"
    }
   ],
   "source": [
    "#contibgency table\n",
    "contingency=pd.DataFrame(data={\"version\":[\"gate_30\",\"gate_40\"]})\n",
    "contingency"
   ]
  },
  {
   "cell_type": "code",
   "execution_count": 14,
   "id": "e6335d52",
   "metadata": {},
   "outputs": [
    {
     "data": {
      "text/html": [
       "<div>\n",
       "<style scoped>\n",
       "    .dataframe tbody tr th:only-of-type {\n",
       "        vertical-align: middle;\n",
       "    }\n",
       "\n",
       "    .dataframe tbody tr th {\n",
       "        vertical-align: top;\n",
       "    }\n",
       "\n",
       "    .dataframe thead th {\n",
       "        text-align: right;\n",
       "    }\n",
       "</style>\n",
       "<table border=\"1\" class=\"dataframe\">\n",
       "  <thead>\n",
       "    <tr style=\"text-align: right;\">\n",
       "      <th></th>\n",
       "      <th>version</th>\n",
       "      <th>retained_1</th>\n",
       "    </tr>\n",
       "  </thead>\n",
       "  <tbody>\n",
       "    <tr>\n",
       "      <th>0</th>\n",
       "      <td>gate_30</td>\n",
       "      <td>20034</td>\n",
       "    </tr>\n",
       "    <tr>\n",
       "      <th>1</th>\n",
       "      <td>gate_40</td>\n",
       "      <td>20119</td>\n",
       "    </tr>\n",
       "  </tbody>\n",
       "</table>\n",
       "</div>"
      ],
      "text/plain": [
       "   version  retained_1\n",
       "0  gate_30       20034\n",
       "1  gate_40       20119"
      ]
     },
     "execution_count": 14,
     "metadata": {},
     "output_type": "execute_result"
    }
   ],
   "source": [
    "contingency[\"retained_1\"]=df[df.retention_1==True].groupby(by=\"version\").count()[\"retention_1\"].values\n",
    "contingency"
   ]
  },
  {
   "cell_type": "code",
   "execution_count": 15,
   "id": "8bc2334a",
   "metadata": {},
   "outputs": [],
   "source": [
    "contingency[\"non_retained_1\"]=df[df.retention_1==False].groupby(by=\"version\").count()[\"retention_1\"].values"
   ]
  },
  {
   "cell_type": "code",
   "execution_count": 16,
   "id": "9b237c00",
   "metadata": {},
   "outputs": [],
   "source": [
    "contingency[\"retained_7\"]=df[df.retention_7==True].groupby(by=\"version\").count()[\"retention_7\"].values"
   ]
  },
  {
   "cell_type": "code",
   "execution_count": 17,
   "id": "0874336a",
   "metadata": {},
   "outputs": [],
   "source": [
    "contingency[\"non_retained_7\"]=df[df.retention_7==False].groupby(by=\"version\").count()[\"retention_7\"].values"
   ]
  },
  {
   "cell_type": "code",
   "execution_count": 18,
   "id": "02c60347",
   "metadata": {},
   "outputs": [
    {
     "data": {
      "text/html": [
       "<div>\n",
       "<style scoped>\n",
       "    .dataframe tbody tr th:only-of-type {\n",
       "        vertical-align: middle;\n",
       "    }\n",
       "\n",
       "    .dataframe tbody tr th {\n",
       "        vertical-align: top;\n",
       "    }\n",
       "\n",
       "    .dataframe thead th {\n",
       "        text-align: right;\n",
       "    }\n",
       "</style>\n",
       "<table border=\"1\" class=\"dataframe\">\n",
       "  <thead>\n",
       "    <tr style=\"text-align: right;\">\n",
       "      <th></th>\n",
       "      <th>version</th>\n",
       "      <th>retained_1</th>\n",
       "      <th>non_retained_1</th>\n",
       "      <th>retained_7</th>\n",
       "      <th>non_retained_7</th>\n",
       "    </tr>\n",
       "  </thead>\n",
       "  <tbody>\n",
       "    <tr>\n",
       "      <th>0</th>\n",
       "      <td>gate_30</td>\n",
       "      <td>20034</td>\n",
       "      <td>24666</td>\n",
       "      <td>8502</td>\n",
       "      <td>36198</td>\n",
       "    </tr>\n",
       "    <tr>\n",
       "      <th>1</th>\n",
       "      <td>gate_40</td>\n",
       "      <td>20119</td>\n",
       "      <td>25370</td>\n",
       "      <td>8279</td>\n",
       "      <td>37210</td>\n",
       "    </tr>\n",
       "  </tbody>\n",
       "</table>\n",
       "</div>"
      ],
      "text/plain": [
       "   version  retained_1  non_retained_1  retained_7  non_retained_7\n",
       "0  gate_30       20034           24666        8502           36198\n",
       "1  gate_40       20119           25370        8279           37210"
      ]
     },
     "execution_count": 18,
     "metadata": {},
     "output_type": "execute_result"
    }
   ],
   "source": [
    "contingency"
   ]
  },
  {
   "cell_type": "code",
   "execution_count": 19,
   "id": "a65550a6",
   "metadata": {},
   "outputs": [
    {
     "name": "stdout",
     "output_type": "stream",
     "text": [
      "Statistic:3.1591007878782262\n",
      "P-Value:0.07550476210309086\n"
     ]
    }
   ],
   "source": [
    "#Chi-squared test for 1-day retention\n",
    "chi,p_value,_,_=stats.chi2_contingency(contingency[[\"retained_1\",\"non_retained_1\"]])\n",
    "print(\"Statistic:{}\\nP-Value:{}\".format(chi,p_value))"
   ]
  },
  {
   "cell_type": "markdown",
   "id": "df88b369",
   "metadata": {},
   "source": [
    "According to chi-squared test, there is no significant difference in retention rates between the two versions at the 5% significance level.   \n",
    "We do not have enough evidence to reject null hypothesis that retention rate is the same for the two versions."
   ]
  },
  {
   "cell_type": "code",
   "execution_count": 20,
   "id": "78a51a3e",
   "metadata": {},
   "outputs": [
    {
     "name": "stdout",
     "output_type": "stream",
     "text": [
      "Statistic:9.959086799559165\n",
      "P-Value:0.0016005742679058301\n"
     ]
    }
   ],
   "source": [
    "#Chi-squared test for 7-day retention\n",
    "chi,p_value,_,_=stats.chi2_contingency(contingency[[\"retained_7\",\"non_retained_7\"]])\n",
    "print(\"Statistic:{}\\nP-Value:{}\".format(chi,p_value))"
   ]
  },
  {
   "cell_type": "markdown",
   "id": "0a78a24b",
   "metadata": {},
   "source": [
    "According to chi-squared test, there is a significant difference in retention rates at the 1% significance level.  \n",
    "We reject null hypothesis and accept our alternative hypothesis that 7-day retention rate is higher when the gate is at level 30."
   ]
  },
  {
   "cell_type": "markdown",
   "id": "09a01dca",
   "metadata": {},
   "source": [
    "## 5. Conclusion "
   ]
  },
  {
   "cell_type": "markdown",
   "id": "6b05a357",
   "metadata": {},
   "source": [
    "### 1-day retention\n",
    "According to chi-squared test, there is no significant difference in retention rates between the two versions at the 5% significance level.\n",
    "We do not have enough evidence to reject null hypothesis that retention rate is the same for the two versions.\n",
    "### 7-day retention\n",
    "According to chi-squared test, there is a significant difference in retention rates at the 1% significance level.\n",
    "We reject null hypothesis and accept our alternative hypothesis that 7-day retention rate is higher when the gate is at level 30.\n"
   ]
  },
  {
   "cell_type": "markdown",
   "id": "e077dcb0",
   "metadata": {},
   "source": [
    "---\n",
    "### Referance\n",
    "https://tactilegames.com/cookie-cats/  \n",
    "https://app.datacamp.com/learn/projects/184  \n",
    "https://bit.ly/2oQH6ys   \n",
    "https://www.kaggle.com/datasets/arpitdw/cokie-cats  \n",
    "https://www.youtube.com/watch?v=GaP5f0jVTWE\n",
    "https://reurl.cc/Wq7dRZ\n",
    "https://reurl.cc/858Gv4\n",
    "https://reurl.cc/oZALRv\n",
    "https://www.hansshih.com/post/85896239420"
   ]
  }
 ],
 "metadata": {
  "kernelspec": {
   "display_name": "Python 3 (ipykernel)",
   "language": "python",
   "name": "python3"
  },
  "language_info": {
   "codemirror_mode": {
    "name": "ipython",
    "version": 3
   },
   "file_extension": ".py",
   "mimetype": "text/x-python",
   "name": "python",
   "nbconvert_exporter": "python",
   "pygments_lexer": "ipython3",
   "version": "3.9.13"
  }
 },
 "nbformat": 4,
 "nbformat_minor": 5
}
